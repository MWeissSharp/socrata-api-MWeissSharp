{
 "cells": [
  {
   "cell_type": "markdown",
   "id": "ed259032",
   "metadata": {},
   "source": [
    "For this project you will use `requests` package and the SODA API to access data through https://data.nashville.gov/. We'll start out with something familiar, the [Top 500 Monthly Searches](https://data.nashville.gov/Public-Services/Nashville-gov-Top-500-Monthly-Searches/fuaa-r5cm), then pull in different datasets further on. You will make different API requests for each individual question.\n",
    "\n",
    "The documentation for the SODA API is [here](https://dev.socrata.com/consumers/getting-started.html). "
   ]
  },
  {
   "cell_type": "code",
   "execution_count": null,
   "id": "2bfcfd4f",
   "metadata": {},
   "outputs": [],
   "source": [
    "import requests\n",
    "import pandas as pd\n",
    "import matplotlib.pyplot as plt\n",
    "import seaborn as sns\n",
    "\n",
    "%matplotlib inline"
   ]
  },
  {
   "cell_type": "code",
   "execution_count": null,
   "id": "a6039208",
   "metadata": {},
   "outputs": [],
   "source": [
    "endpoint = 'https://data.nashville.gov/resource/fuaa-r5cm.json'"
   ]
  },
  {
   "cell_type": "markdown",
   "id": "bda62642",
   "metadata": {},
   "source": [
    "#### Question 1\n",
    "Make an API request that returns the months where \"fire\" was searched in 2016. Which month had the most searches? "
   ]
  },
  {
   "cell_type": "code",
   "execution_count": null,
   "id": "a02faa84",
   "metadata": {},
   "outputs": [],
   "source": [
    "params1 = {\n",
    "    'year' : 2016,\n",
    "    'query_text' : 'fire'\n",
    "}"
   ]
  },
  {
   "cell_type": "code",
   "execution_count": null,
   "id": "6cb968da",
   "metadata": {},
   "outputs": [],
   "source": [
    "response1 = requests.get(endpoint, params = params1)\n",
    "response1"
   ]
  },
  {
   "cell_type": "code",
   "execution_count": null,
   "id": "686421e3",
   "metadata": {},
   "outputs": [],
   "source": [
    "res1 = response1.json()\n",
    "res1"
   ]
  },
  {
   "cell_type": "code",
   "execution_count": null,
   "id": "12a4bf86",
   "metadata": {},
   "outputs": [],
   "source": [
    "res1_df = pd.DataFrame(res1)\n",
    "res1_df['query_count'] = res1_df['query_count'].astype(int)\n",
    "res1_df"
   ]
  },
  {
   "cell_type": "code",
   "execution_count": null,
   "id": "2fe934e1",
   "metadata": {
    "scrolled": true
   },
   "outputs": [],
   "source": [
    "max_month = res1_df.nlargest(1, 'query_count')\n",
    "max_month"
   ]
  },
  {
   "cell_type": "markdown",
   "id": "ffbb8607",
   "metadata": {},
   "source": [
    "Fire was searched 47 times in September, 2016 (the most times for that year)"
   ]
  },
  {
   "cell_type": "markdown",
   "id": "799733b5",
   "metadata": {},
   "source": [
    "#### Question 2 \n",
    "Make an API request that returns all the times a query was run more than 100 times in a month. How many times did this occur? "
   ]
  },
  {
   "cell_type": "code",
   "execution_count": null,
   "id": "c607a2d1",
   "metadata": {},
   "outputs": [],
   "source": [
    "params2 = {\n",
    "    '$limit' : 100000,\n",
    "    '$where' : 'query_count > 100'\n",
    "}\n",
    "\n",
    "response2 = requests.get(endpoint , params=params2)\n",
    "response2"
   ]
  },
  {
   "cell_type": "code",
   "execution_count": null,
   "id": "12497f7f",
   "metadata": {},
   "outputs": [],
   "source": [
    "len(response2.json())"
   ]
  },
  {
   "cell_type": "markdown",
   "id": "fa7c5df7",
   "metadata": {},
   "source": [
    "There are 1262 instances when a query term was search more than 100 times in a given month"
   ]
  },
  {
   "cell_type": "markdown",
   "id": "2f7cfaad",
   "metadata": {},
   "source": [
    "#### Question 3\n",
    "Make another API request that returns all the times \"codes\" was searched more than 100 times in a month. How many times did this occur? "
   ]
  },
  {
   "cell_type": "code",
   "execution_count": null,
   "id": "41a4b310",
   "metadata": {},
   "outputs": [],
   "source": [
    "params3 = {\n",
    "    '$limit' : 100000,\n",
    "    'query_text' : 'codes',\n",
    "    '$where' : 'query_count > 100'\n",
    "}\n",
    "\n",
    "response3 = requests.get(endpoint, params=params3)\n",
    "response3"
   ]
  },
  {
   "cell_type": "code",
   "execution_count": null,
   "id": "25bbd894",
   "metadata": {},
   "outputs": [],
   "source": [
    "len(response3.json())"
   ]
  },
  {
   "cell_type": "markdown",
   "id": "fb70c78d",
   "metadata": {},
   "source": [
    "There are 56 instances when the term 'codes' was searched more than 100 times in a given month"
   ]
  },
  {
   "cell_type": "markdown",
   "id": "fbbde25e",
   "metadata": {},
   "source": [
    "#### Question 4\n",
    "Make an API request that returns the entire Top 500 Monthly Searches dataset. Make a chart that shows the number of times \"maps\" was searched in a month across the entire time frame."
   ]
  },
  {
   "cell_type": "code",
   "execution_count": null,
   "id": "8fd6a474",
   "metadata": {},
   "outputs": [],
   "source": [
    "params4 = {\n",
    "    '$limit' : 100000\n",
    "}\n",
    "response4 = requests.get(endpoint, params=params4)\n",
    "response4"
   ]
  },
  {
   "cell_type": "code",
   "execution_count": null,
   "id": "9071e479",
   "metadata": {},
   "outputs": [],
   "source": [
    "full_res = response4.json()\n",
    "full_res"
   ]
  },
  {
   "cell_type": "code",
   "execution_count": null,
   "id": "caec8f77",
   "metadata": {
    "scrolled": true
   },
   "outputs": [],
   "source": [
    "maps_dict = {}\n",
    "\n",
    "for line in full_res:\n",
    "    text = line.get('query_text')\n",
    "    mon_yr = str(line.get('month_name')+', '+line.get('year'))\n",
    "    count = line.get('query_count')\n",
    "    if text == 'maps':\n",
    "       maps_dict[mon_yr] = count\n",
    "    \n",
    "maps_dict"
   ]
  },
  {
   "cell_type": "code",
   "execution_count": null,
   "id": "784c1fbf",
   "metadata": {
    "scrolled": true
   },
   "outputs": [],
   "source": [
    "maps_df = pd.DataFrame.from_dict(maps_dict, orient='index')\n",
    "maps_df = maps_df.reset_index()\n",
    "maps_df.columns = ['date', 'count']\n",
    "maps_df['count'] = maps_df['count'].astype(float)\n",
    "maps_df['date'] = pd.to_datetime(maps_df['date'])\n",
    "maps_df['mon_yr'] = maps_df['date'].dt.strftime('%m/%Y')\n",
    "maps_df = maps_df.sort_values('date')\n",
    "maps_df"
   ]
  },
  {
   "cell_type": "code",
   "execution_count": null,
   "id": "16b503c6",
   "metadata": {},
   "outputs": [],
   "source": [
    "plt.figure(figsize=(16, 8))\n",
    "plt.plot('date', 'count', data = maps_df)\n",
    "plt.xticks(rotation = 30);"
   ]
  },
  {
   "cell_type": "markdown",
   "id": "c69caf3a",
   "metadata": {},
   "source": [
    "### Stretch Questions"
   ]
  },
  {
   "cell_type": "markdown",
   "id": "db754759",
   "metadata": {},
   "source": [
    "#### Question 5\n",
    "Make an API request to pull back all the data from [hubNashville (311) Service Requests](https://data.nashville.gov/Public-Services/hubNashville-311-Service-Requests/7qhx-rexh) (check to see how many rows you can return in a single request). Compare it to the Top 500 Monthly Searches data set. What do you observe? (This is open-ended, there isn't a specific answer for this one)"
   ]
  },
  {
   "cell_type": "code",
   "execution_count": null,
   "id": "6b008705",
   "metadata": {
    "scrolled": true
   },
   "outputs": [],
   "source": [
    "#pulling in all 311 Service Requests, confirming my limit is above the number of requests brought in\n",
    "hub_endpoint = 'https://data.nashville.gov/resource/7qhx-rexh.json'\n",
    "hub_params = {\n",
    "    '$limit' : 1100000\n",
    "}\n",
    "\n",
    "hub_response = requests.get(hub_endpoint, params=hub_params)\n",
    "\n",
    "len(hub_response.json())"
   ]
  },
  {
   "cell_type": "code",
   "execution_count": null,
   "id": "41c75fe4",
   "metadata": {
    "scrolled": true
   },
   "outputs": [],
   "source": [
    "hub_df = pd.DataFrame(hub_response.json())\n",
    "hub_df[['date_time_opened', 'date_time_closed']] = hub_df[['date_time_opened', 'date_time_closed']].apply(pd.to_datetime)\n",
    "hub_df.info()"
   ]
  },
  {
   "cell_type": "code",
   "execution_count": null,
   "id": "383c5ed9",
   "metadata": {
    "scrolled": false
   },
   "outputs": [],
   "source": [
    "#simplifying the dataframe to just key columns\n",
    "hub_df['open_mon_yr'] = hub_df['date_time_opened'].dt.to_period('M')\n",
    "hub_df['close_mon_yr'] = hub_df['date_time_closed'].dt.to_period('M')\n",
    "simp_hub_df = hub_df[['case_number', 'status', 'case_request', 'case_subrequest', 'additional_subrequest', \n",
    "                      'open_mon_yr', 'close_mon_yr']]\n",
    "simp_hub_df = simp_hub_df.sort_values('open_mon_yr')\n",
    "simp_hub_df"
   ]
  },
  {
   "cell_type": "code",
   "execution_count": null,
   "id": "19feb22a",
   "metadata": {},
   "outputs": [],
   "source": [
    "#Turning the search data into a dataframe\n",
    "search_df = pd.DataFrame(full_res)\n",
    "search_df['mon_yr'] = search_df['month_name']+' '+search_df['year']\n",
    "search_df['mon_yr'] = pd.to_datetime(search_df['mon_yr'])\n",
    "search_df['mon_yr'] = search_df['mon_yr'].dt.to_period('M')\n",
    "search_df.info()"
   ]
  },
  {
   "cell_type": "code",
   "execution_count": null,
   "id": "572f597c",
   "metadata": {
    "scrolled": true
   },
   "outputs": [],
   "source": [
    "#Simplifying the search dataframe, cleaning up the query_text column a bit\n",
    "simp_search_df = search_df[['query_text', 'mon_yr', 'query_count']]\n",
    "simp_search_df['query_text'] = search_df['query_text'].str.strip(' \" \\'()-?').str.lower()\n",
    "simp_search_df"
   ]
  },
  {
   "cell_type": "code",
   "execution_count": null,
   "id": "c97ba6f3",
   "metadata": {},
   "outputs": [],
   "source": [
    "#Combining searches that were only different because of capitalization or punctuation\n",
    "searches = simp_search_df.groupby(['query_text', 'mon_yr'])['query_count'].sum()\n",
    "searches = pd.DataFrame(searches).reset_index()\n",
    "searches['query_count'] = searches['query_count'].astype(float)\n",
    "searches"
   ]
  },
  {
   "cell_type": "code",
   "execution_count": null,
   "id": "a355e667",
   "metadata": {
    "scrolled": true
   },
   "outputs": [],
   "source": [
    "#Getting a count of each request type by month/year\n",
    "hub_requests = simp_hub_df.groupby(['case_request', 'open_mon_yr'])['case_number'].count()\n",
    "hub_requests = pd.DataFrame(hub_requests).reset_index()\n",
    "hub_requests = hub_requests.rename(columns = { 'case_request' : 'request_type',\n",
    "                                              'status' : 'request_count'})\n",
    "hub_requests"
   ]
  },
  {
   "cell_type": "code",
   "execution_count": null,
   "id": "9a93567f",
   "metadata": {
    "scrolled": true
   },
   "outputs": [],
   "source": [
    "#looking specifically as searches in the first three months of the coronavirus pandemic\n",
    "early_covid_searches = searches.loc[(searches['mon_yr'] >= '03/2020') &(searches['mon_yr'] <= '05-2020')]\n",
    "early_covid_searches = early_covid_searches.sort_values('query_count', ascending=False)\n",
    "early_covid_searches.head(50)"
   ]
  },
  {
   "cell_type": "code",
   "execution_count": null,
   "id": "60e9c1ba",
   "metadata": {
    "scrolled": true
   },
   "outputs": [],
   "source": [
    "#Just out of curiosity, looking at searches for the same 3 months the year before\n",
    "pre_searches = searches.loc[(searches['mon_yr'] >= '03/2019') &(searches['mon_yr'] <= '05-2019')]\n",
    "pre_searches = pre_searches.sort_values('query_count', ascending=False)\n",
    "pre_searches.head(50)"
   ]
  },
  {
   "cell_type": "code",
   "execution_count": null,
   "id": "0cb095c8",
   "metadata": {
    "scrolled": true
   },
   "outputs": [],
   "source": [
    "#Specifically looking at 311 requests from the first three months of the pandemic\n",
    "early_covid_requests = hub_requests.loc[(hub_requests['open_mon_yr'] >= '03/2020') & \n",
    "                                  (hub_requests['open_mon_yr'] <= '05-2020')]\n",
    "early_covid_requests = early_covid_requests.sort_values('request_count', ascending=False)\n",
    "early_covid_requests.head(50)"
   ]
  },
  {
   "cell_type": "code",
   "execution_count": null,
   "id": "dcb04003",
   "metadata": {},
   "outputs": [],
   "source": [
    "#Now pulling all COVID-19 case requests from the 311 data\n",
    "all_covid_req = simp_hub_df.loc[simp_hub_df['case_request'] == 'COVID-19']\n",
    "all_covid_req"
   ]
  },
  {
   "cell_type": "code",
   "execution_count": null,
   "id": "4a7c4fe9",
   "metadata": {
    "scrolled": true
   },
   "outputs": [],
   "source": [
    "#Getting monthly counts of COVID-19 311 requests\n",
    "monthly_covid_req = all_covid_req.groupby(['open_mon_yr'])['case_number'].count()\n",
    "monthly_covid_req = pd.DataFrame(monthly_covid_req).reset_index()\n",
    "monthly_covid_req.columns = ['open_yr_month', 'case_count']\n",
    "monthly_covid_req['yr_mon'] = monthly_covid_req['open_yr_month'].astype(str)\n",
    "monthly_covid_req"
   ]
  },
  {
   "cell_type": "code",
   "execution_count": null,
   "id": "272cb1a6",
   "metadata": {},
   "outputs": [],
   "source": [
    "#finding all COVID related searches\n",
    "covid_searches = searches.loc[(searches['query_text'].str.contains('covid')) | \n",
    "                              (searches['query_text'].str.contains('corona'))]\n",
    "covid_searches.info()"
   ]
  },
  {
   "cell_type": "code",
   "execution_count": null,
   "id": "57cb3bf1",
   "metadata": {},
   "outputs": [],
   "source": [
    "#getting a count of all COVID reelated searches\n",
    "monthly_covid_searches = covid_searches.groupby(['mon_yr'])['query_count'].sum()\n",
    "monthly_covid_searches = pd.DataFrame(monthly_covid_searches).reset_index()\n",
    "monthly_covid_searches['yr_mon'] = monthly_covid_searches['mon_yr'].astype(str)\n",
    "monthly_covid_searches"
   ]
  },
  {
   "cell_type": "code",
   "execution_count": null,
   "id": "9b28fd40",
   "metadata": {},
   "outputs": [],
   "source": [
    "plt.figure(figsize = (18,9))\n",
    "plt.plot('yr_mon', 'case_count', data = monthly_covid_req)\n",
    "plt.xlabel('Month')\n",
    "plt.ylabel('COVID-19 Hub Requests')\n",
    "plt.xticks(rotation = 60);"
   ]
  },
  {
   "cell_type": "code",
   "execution_count": null,
   "id": "39ff3e5f",
   "metadata": {},
   "outputs": [],
   "source": [
    "plt.figure(figsize = (18,9))\n",
    "plt.plot('yr_mon', 'query_count', data = monthly_covid_searches)\n",
    "plt.xlabel('Month')\n",
    "plt.ylabel('Number of COVID-19 Related Searches')\n",
    "#plt.ylim(0, 3600)\n",
    "plt.xticks(rotation = 60);"
   ]
  },
  {
   "cell_type": "markdown",
   "id": "d54b3095",
   "metadata": {},
   "source": [
    "#### Question 6\n",
    "Find 2 new data sets on data.nashville.gov, make API requests to pull the data, and do an analysis that combines the data sets. "
   ]
  },
  {
   "cell_type": "code",
   "execution_count": null,
   "id": "72b3ded3",
   "metadata": {},
   "outputs": [],
   "source": [
    "#Pulling in short term rental (str) permit information\n",
    "str_endpoint = 'https://data.nashville.gov/resource/2z82-v8pm.json'\n",
    "str_params = {\n",
    "    '$limit' : 15000\n",
    "}\n",
    "\n",
    "str_response = requests.get(str_endpoint, params= str_params)\n",
    "str_response"
   ]
  },
  {
   "cell_type": "code",
   "execution_count": null,
   "id": "856a86d9",
   "metadata": {
    "scrolled": true
   },
   "outputs": [],
   "source": [
    "str_permits = pd.DataFrame(str_response.json())\n",
    "str_permits"
   ]
  },
  {
   "cell_type": "code",
   "execution_count": null,
   "id": "4fc812e4",
   "metadata": {},
   "outputs": [],
   "source": [
    "#pulling in property violation information\n",
    "prop_endpoint = 'https://data.nashville.gov/resource/479w-kw2x.json'\n",
    "prop_params = {\n",
    "    '$limit' : 110000\n",
    "}\n",
    "\n",
    "prop_response = requests.get(prop_endpoint, params=prop_params)\n",
    "prop_response"
   ]
  },
  {
   "cell_type": "code",
   "execution_count": null,
   "id": "f080ad84",
   "metadata": {},
   "outputs": [],
   "source": [
    "prop_violations = pd.DataFrame(prop_response.json())\n",
    "prop_violations"
   ]
  },
  {
   "cell_type": "code",
   "execution_count": null,
   "id": "30e24ee5",
   "metadata": {},
   "outputs": [],
   "source": [
    "#Tidying up the dataframe\n",
    "prop_violations = prop_violations.drop(columns = ['council_district', ':@computed_region_wvby_4s8j', \n",
    "                                                  ':@computed_region_3aw5_2wv7', \n",
    "                                                  ':@computed_region_p6sk_2acq', \n",
    "                                                  ':@computed_region_gxvr_9jxz', \n",
    "                                                  ':@computed_region_gisn_y5cm', \n",
    "                                                  ':@computed_region_sjpq_96s8', \n",
    "                                                  ':@computed_region_v3ji_vzam', \n",
    "                                                  ':@computed_region_c9xn_skx3', \n",
    "                                                  ':@computed_region_f73m_vb2k', \n",
    "                                                  ':@computed_region_kh5x_g7w5', \n",
    "                                                  ':@computed_region_yf9r_ed6g', \n",
    "                                                  ':@computed_region_fvtq_wnma', \n",
    "                                                  ':@computed_region_b9k3_hpc2', \n",
    "                                                  ':@computed_region_cfa7_hbpz' ])\n",
    "prop_violations = prop_violations.rename(columns = {'property_address' : 'address'})\n",
    "\n",
    "prop_violations.info()"
   ]
  },
  {
   "cell_type": "code",
   "execution_count": null,
   "id": "d7b7350a",
   "metadata": {},
   "outputs": [],
   "source": [
    "#Tidying up the dataframe\n",
    "str_permits = str_permits.drop(columns = ['parcel', 'census_tract', \n",
    "                                          ':@computed_region_p6sk_2acq', \n",
    "                                          ':@computed_region_gxvr_9jxz', \n",
    "                                          ':@computed_region_wvby_4s8j', \n",
    "                                          ':@computed_region_3aw5_2wv7', \n",
    "                                          ':@computed_region_cfa7_hbpz', \n",
    "                                          ':@computed_region_sjpq_96s8', \n",
    "                                          ':@computed_region_f73m_vb2k', \n",
    "                                          ':@computed_region_c9xn_skx3', \n",
    "                                          ':@computed_region_gisn_y5cm', \n",
    "                                          ':@computed_region_v3ji_vzam'])\n",
    "str_permits.info()"
   ]
  },
  {
   "cell_type": "code",
   "execution_count": null,
   "id": "7b2a0d73",
   "metadata": {},
   "outputs": [],
   "source": [
    "#Merging the dataframes, keeping all str properties, but only prop violations that occured at strs\n",
    "str_pv = str_permits.merge(prop_violations, how='left', on=['address', 'city', 'state', 'zip'])\n",
    "str_pv"
   ]
  },
  {
   "cell_type": "code",
   "execution_count": null,
   "id": "bca1f686",
   "metadata": {},
   "outputs": [],
   "source": [
    "#Further trimming down columns\n",
    "str_pv = str_pv[['applicant', 'permit', 'permit_subtype_description', 'permit_type', 'permit_subtype',\n",
    "                'permit_status', 'date_entered', 'date_issued', 'expiration_date', 'address', 'city', \n",
    "                'state', 'zip', 'purpose', 'permit_owner_name', 'contact', 'council_dist', \n",
    "                'mapped_location_x', 'mapped_location_y', 'request', 'date_received', \n",
    "                'property_owner', 'complaint_source', 'reported_problem', 'violations_noted', \n",
    "                'status', 'last_activity_date', 'last_activity', 'last_activity_result']]\n",
    "str_pv"
   ]
  },
  {
   "cell_type": "code",
   "execution_count": null,
   "id": "9391ef87",
   "metadata": {
    "scrolled": true
   },
   "outputs": [],
   "source": [
    "#dropping down just to those str properties with violations\n",
    "str_violators = str_pv.loc[~str_pv['request'].isna()]\n",
    "str_violators"
   ]
  },
  {
   "cell_type": "code",
   "execution_count": null,
   "id": "47078d9d",
   "metadata": {},
   "outputs": [],
   "source": [
    "#adjusting some columns, cleaning up some of the entries\n",
    "str_violators[['date_issued', 'date_received']] = str_violators[['date_issued', 'date_received']].apply(pd.to_datetime)\n",
    "str_violators.loc[:, 'violations_noted'] = str_violators['violations_noted'].str.upper()\n",
    "str_violators = str_violators.replace({'EXCESSIVE NOISE/WASTE' : 'EXCESSIVE NOISE / WASTE'})"
   ]
  },
  {
   "cell_type": "code",
   "execution_count": null,
   "id": "4a101377",
   "metadata": {
    "scrolled": true
   },
   "outputs": [],
   "source": [
    "#Now finding those instances when the violation occurred AFTER the str permit was issued\n",
    "str_pv1 = str_violations.loc[str_violations['date_issued'] <= str_violations['date_received']]\n",
    "str_pv1"
   ]
  },
  {
   "cell_type": "code",
   "execution_count": null,
   "id": "d191d3a7",
   "metadata": {},
   "outputs": [],
   "source": [
    "#How many unique str properties had violations after getting the str permit 2957\n",
    "num_prop_violators = len(set(str_pv1['permit']))\n",
    "num_prop_violators"
   ]
  },
  {
   "cell_type": "code",
   "execution_count": null,
   "id": "48ade0fb",
   "metadata": {},
   "outputs": [],
   "source": [
    "#Looking at instances when the property had violations prior to getting the permit\n",
    "str_pv2 = str_violations.loc[str_violations['date_issued'] > str_violations['date_received']]\n",
    "str_pv2"
   ]
  },
  {
   "cell_type": "code",
   "execution_count": null,
   "id": "0120ff86",
   "metadata": {},
   "outputs": [],
   "source": [
    "#How many unique str properties had violations prior to the permit being issued? 549\n",
    "num_pre_violators = len(set(str_pv2['permit']))\n",
    "num_pre_violators"
   ]
  },
  {
   "cell_type": "code",
   "execution_count": null,
   "id": "de65f6b4",
   "metadata": {},
   "outputs": [],
   "source": [
    "#Now looking at repeat offenders for those str properties with violations after getting their permits\n",
    "repeats = (\n",
    "    str_pv1.groupby(['permit'])['request'].count().to_frame().reset_index()\n",
    "repeats.columns = ['str_permit', 'property_complaints']\n",
    "repeats = repeats.loc[repeats['property_complaints'] > 1].sort_values('property_complaints', ascending=False)\n",
    "\n",
    "repeats.head(50)"
   ]
  },
  {
   "cell_type": "code",
   "execution_count": null,
   "id": "08c5b82a",
   "metadata": {
    "scrolled": true
   },
   "outputs": [],
   "source": [
    "#Checking out post-permit violations by str permit subtype\n",
    "pv_by_subtype = str_pv1.groupby(['permit_subtype_description'])['request'].count()\n",
    "pv_by_subtype = pd.DataFrame(pv_by_subtype).reset_index()\n",
    "pv_by_subtype.columns = ['str_permit_subtype', 'property_complaints']\n",
    "pv_by_subtype"
   ]
  },
  {
   "cell_type": "code",
   "execution_count": null,
   "id": "a074c0d5",
   "metadata": {},
   "outputs": [],
   "source": [
    "#Looking at those str permit applications that resulted in a permit being issued\n",
    "issued_str = str_permits.loc[~str_permits['date_issued'].isna()].reset_index()\n",
    "issued_str.info()"
   ]
  },
  {
   "cell_type": "code",
   "execution_count": null,
   "id": "97d06cff",
   "metadata": {},
   "outputs": [],
   "source": [
    "#str permit subtypes for those properties that received permits\n",
    "str_by_subtype = issued_str.groupby(['permit_subtype_description'])['permit'].count()\n",
    "str_by_subtype = pd.DataFrame(str_by_subtype).reset_index()\n",
    "str_by_subtype.columns = ['str_permit_subtype', 'total_permits']\n",
    "str_by_subtype"
   ]
  },
  {
   "cell_type": "code",
   "execution_count": null,
   "id": "3a7d7b8b",
   "metadata": {
    "scrolled": false
   },
   "outputs": [],
   "source": [
    "sns.set_theme(style='whitegrid')\n",
    "pb = sns.barplot(x=\"total_permits\", y=\"str_permit_subtype\", data = str_by_subtype, palette='Set2')\n",
    "plt.title('Short Term Rental Properties by Permit Subtype')\n",
    "plt.xlabel('Total Permits')\n",
    "plt.ylabel('Permit Subtype')\n",
    "pb.figure.set_size_inches(6, 4);"
   ]
  },
  {
   "cell_type": "code",
   "execution_count": null,
   "id": "ae9053b6",
   "metadata": {},
   "outputs": [],
   "source": [
    "sns.set_theme(style='whitegrid')\n",
    "pvb = sns.barplot(x='property_complaints', y='str_permit_subtype', data = pv_by_subtype, palette='Set2')\n",
    "plt.title('Short Term Rental Properties with Property Standards Complaints by Permit Subtype')\n",
    "plt.xlabel('Total Complaints')\n",
    "plt.ylabel('Permit Subtype')\n",
    "pvb.set(xlim=(0, 6000))\n",
    "pvb.figure.set_size_inches(6, 4);"
   ]
  },
  {
   "cell_type": "code",
   "execution_count": null,
   "id": "e6b2079b",
   "metadata": {},
   "outputs": [],
   "source": [
    "#top 10 str post-permit violations by types of violation\n",
    "str_pv_by_violations = str_pv1.groupby(['violations_noted'])['request'].count()\n",
    "str_pv_by_violations = pd.DataFrame(str_pv_by_violations).reset_index()\n",
    "str_pv_by_violations.columns = ['violation', 'property_complaints']\n",
    "str_pv_by_violations = str_pv_by_violations.sort_values('property_complaints', ascending=False)\n",
    "top_str_pv_by_violations = str_pv_by_violations.head(10)\n",
    "top_str_pv_by_violations"
   ]
  },
  {
   "cell_type": "code",
   "execution_count": null,
   "id": "5e216c3d",
   "metadata": {},
   "outputs": [],
   "source": [
    "#top 10 overall property violations by types of violation\n",
    "prop_violations['violations_noted'] = prop_violations['violations_noted'].str.upper()\n",
    "prop_violations = prop_violations.replace({'EXCESSIVE NOISE/WASTE' : 'EXCESSIVE NOISE / WASTE'})\n",
    "pv_by_violations = prop_violations.groupby(['violations_noted'])['request'].count()\n",
    "pv_by_violations = pd.DataFrame(pv_by_violations).reset_index()\n",
    "pv_by_violations.columns = ['violation', 'property_complaints']\n",
    "pv_by_violations = pv_by_violations.sort_values('property_complaints', ascending=False)\n",
    "pv_by_violations.head(10)"
   ]
  },
  {
   "cell_type": "code",
   "execution_count": null,
   "id": "8ce0cdee",
   "metadata": {},
   "outputs": [],
   "source": [
    "sns.set_theme(style='whitegrid')\n",
    "svb = sns.barplot(x='property_complaints', y='violation', data = pv_by_violations.head(10), palette='cubehelix')\n",
    "plt.title('All Property Standards Complaints by Violation Type - Top 10')\n",
    "plt.xlabel('Total Complaints')\n",
    "plt.ylabel('Violation')\n",
    "svb.set(xlim=(0, 6500))\n",
    "svb.figure.set_size_inches(12, 8);"
   ]
  },
  {
   "cell_type": "code",
   "execution_count": null,
   "id": "8048b74c",
   "metadata": {},
   "outputs": [],
   "source": [
    "sns.set_theme(style='whitegrid')\n",
    "avb = sns.barplot(x='property_complaints', y='violation', data = top_str_pv_by_violations, palette='icefire_r')\n",
    "plt.title('Short Term Rental Properties with Property Standards Complaints by Violation Type - Top 10')\n",
    "plt.xlabel('Total Complaints')\n",
    "plt.ylabel('Violation')\n",
    "avb.set(xlim=(0, 6500))\n",
    "avb.figure.set_size_inches(12, 8);"
   ]
  },
  {
   "cell_type": "code",
   "execution_count": null,
   "id": "9aa9019f",
   "metadata": {
    "scrolled": true
   },
   "outputs": [],
   "source": [
    "#post-permit str property violations by zip code\n",
    "pv_by_zip = str_pv1.groupby(['zip'])['request'].count()\n",
    "pv_by_zip = pd.DataFrame(pv_by_zip).reset_index()\n",
    "pv_by_zip.columns = ['str_zipcode', 'property_complaints']\n",
    "pv_by_zip = pv_by_zip.sort_values('property_complaints', ascending=False)\n",
    "pv_by_zip"
   ]
  },
  {
   "cell_type": "code",
   "execution_count": null,
   "id": "36b1802e",
   "metadata": {
    "scrolled": true
   },
   "outputs": [],
   "source": [
    "#issued str permits by zipcode\n",
    "str_by_zip = issued_str.groupby(['zip'])['permit'].count()\n",
    "str_by_zip = pd.DataFrame(str_by_zip).reset_index()\n",
    "str_by_zip.columns = ['str_zipcode', 'total_permits']\n",
    "str_by_zip = str_by_zip.sort_values('total_permits', ascending=False)\n",
    "str_by_zip"
   ]
  },
  {
   "cell_type": "code",
   "execution_count": null,
   "id": "de1f1eb2",
   "metadata": {
    "scrolled": true
   },
   "outputs": [],
   "source": [
    "#creating a df with str permit and str violation info, calculating proportions of each\n",
    "zip_pv_proportions = pd.merge(str_by_zip, pv_by_zip)\n",
    "zip_pv_proportions['proportion_complaints'] = round((zip_pv_proportions['property_complaints']/\n",
    "                                                     zip_pv_proportions['property_complaints'].sum())*100, 1)\n",
    "zip_pv_proportions['proportion_permits'] = round((zip_pv_proportions['total_permits']/\n",
    "                                                     zip_pv_proportions['total_permits'].sum())*100, 1)\n",
    "zip_pv_proportions = zip_pv_proportions.sort_values('proportion_complaints', ascending=False)\n",
    "zip_pv_proportions"
   ]
  },
  {
   "cell_type": "code",
   "execution_count": null,
   "id": "f4604716",
   "metadata": {},
   "outputs": [],
   "source": [
    "#scatter plot comparing number of str permits and number of str property violations\n",
    "(\n",
    "    sns.relplot(data=zip_pv_proportions.head(10), \n",
    "                x=\"total_permits\", \n",
    "                y=\"property_complaints\", \n",
    "                hue=\"str_zipcode\", \n",
    "                palette=\"cubehelix\")\n",
    ");"
   ]
  },
  {
   "cell_type": "code",
   "execution_count": null,
   "id": "660a4bb1",
   "metadata": {},
   "outputs": [],
   "source": [
    "#comparing proportion of total str permits to proportion of total str property violations\n",
    "(\n",
    "    zip_pv_proportions.head(10).plot(x=\"str_zipcode\", \n",
    "                                     y=[\"proportion_permits\", \n",
    "                                        \"proportion_complaints\"], \n",
    "                                     kind=\"barh\",\n",
    "                                     figsize=(9,8))\n",
    ");"
   ]
  },
  {
   "cell_type": "code",
   "execution_count": null,
   "id": "11542a6e",
   "metadata": {},
   "outputs": [],
   "source": []
  }
 ],
 "metadata": {
  "kernelspec": {
   "display_name": "Python 3 (ipykernel)",
   "language": "python",
   "name": "python3"
  },
  "language_info": {
   "codemirror_mode": {
    "name": "ipython",
    "version": 3
   },
   "file_extension": ".py",
   "mimetype": "text/x-python",
   "name": "python",
   "nbconvert_exporter": "python",
   "pygments_lexer": "ipython3",
   "version": "3.9.12"
  }
 },
 "nbformat": 4,
 "nbformat_minor": 5
}
